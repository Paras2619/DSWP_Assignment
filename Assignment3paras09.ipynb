{
 "cells": [
  {
   "cell_type": "markdown",
   "id": "dbb03d0c-7ee1-4290-8212-d4d727c73a77",
   "metadata": {},
   "source": [
    "## Practical Assignment 3\n",
    "# Note : take the set element as per your choice\n",
    "## Basic Set Programs\n"
   ]
  },
  {
   "cell_type": "markdown",
   "id": "b1719e17-a20e-428b-a3c5-7a52322b5aa9",
   "metadata": {},
   "source": [
    "#### 1.​Create a set and display its elements\n"
   ]
  },
  {
   "cell_type": "code",
   "execution_count": 1,
   "id": "7084f44e-71b7-432e-a71f-2fb0bd3a1241",
   "metadata": {},
   "outputs": [
    {
     "name": "stdout",
     "output_type": "stream",
     "text": [
      "Elements of the set: {1, 2, 3, 4, 5}\n"
     ]
    }
   ],
   "source": [
    "# Create a set\n",
    "my_set = {1, 2, 3, 4, 5}\n",
    "\n",
    "# Display the set elements\n",
    "print(\"Elements of the set:\", my_set)\n"
   ]
  },
  {
   "cell_type": "markdown",
   "id": "664b09c1-8496-44b5-967d-356d5caa45c9",
   "metadata": {},
   "source": [
    "#### 2.Add an element to a set"
   ]
  },
  {
   "cell_type": "code",
   "execution_count": 2,
   "id": "6abae3ee-0635-4b6c-8e4a-5056082e37df",
   "metadata": {},
   "outputs": [
    {
     "name": "stdout",
     "output_type": "stream",
     "text": [
      "{1, 2, 3, 4}\n"
     ]
    }
   ],
   "source": [
    "my_set = {1, 2, 3}\n",
    "my_set.add(4)\n",
    "print(my_set)\n"
   ]
  },
  {
   "cell_type": "markdown",
   "id": "4bd3c713-fd71-4db1-8684-e3f98229bd21",
   "metadata": {},
   "source": [
    "#### 3.Remove an element from a set"
   ]
  },
  {
   "cell_type": "code",
   "execution_count": 3,
   "id": "6173ee2f-f1b8-417f-8f7d-60de8ad6d0cf",
   "metadata": {},
   "outputs": [
    {
     "name": "stdout",
     "output_type": "stream",
     "text": [
      "{1, 3}\n"
     ]
    }
   ],
   "source": [
    "my_set = {1, 2, 3}\n",
    "my_set.remove(2)\n",
    "print(my_set)  # Output: {1, 3}\n"
   ]
  },
  {
   "cell_type": "markdown",
   "id": "9b2d0cae-2253-4fa7-8a7c-286beb2e486f",
   "metadata": {},
   "source": [
    "#### 4.Clear all elements from a set "
   ]
  },
  {
   "cell_type": "code",
   "execution_count": 4,
   "id": "acc880af-4348-4f26-bd3c-641abca2470f",
   "metadata": {},
   "outputs": [
    {
     "name": "stdout",
     "output_type": "stream",
     "text": [
      "set()\n"
     ]
    }
   ],
   "source": [
    "my_set = {1, 2, 3}\n",
    "my_set.clear()\n",
    "print(my_set)\n"
   ]
  },
  {
   "cell_type": "markdown",
   "id": "7619d3be-ab39-43f8-8f18-b07c9593ce4e",
   "metadata": {},
   "source": [
    "#### 5.Copy a set to another set"
   ]
  },
  {
   "cell_type": "code",
   "execution_count": 5,
   "id": "bbe2f239-d6f3-4861-8739-69c2519ebe61",
   "metadata": {},
   "outputs": [
    {
     "name": "stdout",
     "output_type": "stream",
     "text": [
      "{1, 2, 3}\n"
     ]
    }
   ],
   "source": [
    "original_set = {1, 2, 3}\n",
    "copied_set = original_set.copy()\n",
    "print(copied_set)  # Output: {1, 2, 3}\n"
   ]
  },
  {
   "cell_type": "markdown",
   "id": "7fa07e41-c492-458f-a225-0946a098e2eb",
   "metadata": {},
   "source": [
    "#### 6.Check if an elements exists in a set"
   ]
  },
  {
   "cell_type": "code",
   "execution_count": 6,
   "id": "6a7e1d37-5e8b-4e54-bca3-463e95589917",
   "metadata": {},
   "outputs": [
    {
     "name": "stdout",
     "output_type": "stream",
     "text": [
      "3 is in the set\n"
     ]
    }
   ],
   "source": [
    "my_set = {1, 2, 3, 4}\n",
    "\n",
    "# Check if 3 is in the set\n",
    "if 3 in my_set:\n",
    "    print(\"3 is in the set\")\n",
    "else:\n",
    "    print(\"3 is not in the set\")\n"
   ]
  },
  {
   "cell_type": "markdown",
   "id": "f5cf31a7-cfeb-4a76-8db9-1a088e943831",
   "metadata": {},
   "source": [
    "#### 7.Find Length of a set using a loop"
   ]
  },
  {
   "cell_type": "code",
   "execution_count": 7,
   "id": "56068434-0a18-468f-a840-76d50c6f5f94",
   "metadata": {},
   "outputs": [
    {
     "name": "stdout",
     "output_type": "stream",
     "text": [
      "Length of the set: 4\n"
     ]
    }
   ],
   "source": [
    "my_set = {10, 20, 30, 40}\n",
    "count = 0\n",
    "\n",
    "for element in my_set:\n",
    "    count += 1\n",
    "\n",
    "print(\"Length of the set:\", count)\n"
   ]
  },
  {
   "cell_type": "markdown",
   "id": "e13e9ee1-7a20-4d2e-b471-e0ac8a633d8c",
   "metadata": {},
   "source": [
    "#### 8.iterate through a set using a loop"
   ]
  },
  {
   "cell_type": "code",
   "execution_count": 12,
   "id": "14a84ccb-09aa-4803-bd00-fc98d55896a5",
   "metadata": {},
   "outputs": [
    {
     "name": "stdout",
     "output_type": "stream",
     "text": [
      "40\n",
      "10\n",
      "20\n",
      "30\n"
     ]
    }
   ],
   "source": [
    "my_set = {10, 20, 30, 40}\n",
    "\n",
    "for item in my_set:\n",
    "    print(item)\n"
   ]
  },
  {
   "cell_type": "markdown",
   "id": "e55611e2-7340-45e7-a2bc-f5af0b171299",
   "metadata": {},
   "source": [
    "## Set Operations "
   ]
  },
  {
   "cell_type": "markdown",
   "id": "bcefe445-b6aa-4320-8eb1-8ef41a6a1fb8",
   "metadata": {},
   "source": [
    "#### 9.Find the union of two sets"
   ]
  },
  {
   "cell_type": "code",
   "execution_count": 9,
   "id": "274975ba-48c2-4f8d-8757-df11ebd588d0",
   "metadata": {},
   "outputs": [
    {
     "name": "stdout",
     "output_type": "stream",
     "text": [
      "{1, 2, 3, 4, 5}\n"
     ]
    }
   ],
   "source": [
    "set1 = {1, 2, 3}\n",
    "set2 = {3, 4, 5}\n",
    "\n",
    "union_set = set1.union(set2)\n",
    "print(union_set)  # Output: {1, 2, 3, 4, 5}\n"
   ]
  },
  {
   "cell_type": "markdown",
   "id": "72b4d5d2-aaf5-47e2-927d-a6234b09d266",
   "metadata": {},
   "source": [
    "#### 10.Find the intersection of two sets"
   ]
  },
  {
   "cell_type": "code",
   "execution_count": 10,
   "id": "645312a8-8fc4-4265-81c9-a02e3f4ad01a",
   "metadata": {},
   "outputs": [
    {
     "name": "stdout",
     "output_type": "stream",
     "text": [
      "{3, 4}\n"
     ]
    }
   ],
   "source": [
    "set1 = {1, 2, 3, 4}\n",
    "set2 = {3, 4, 5, 6}\n",
    "\n",
    "intersection_set = set1.intersection(set2)\n",
    "print(intersection_set)  # Output: {3, 4}\n"
   ]
  },
  {
   "cell_type": "markdown",
   "id": "f92a88cb-9692-49ef-9767-d049dea2c967",
   "metadata": {},
   "source": [
    "#### 11.Find the difference between two sets"
   ]
  },
  {
   "cell_type": "code",
   "execution_count": 11,
   "id": "02f98121-f16f-4599-ab3e-1a305b494f3d",
   "metadata": {},
   "outputs": [
    {
     "name": "stdout",
     "output_type": "stream",
     "text": [
      "{1, 2}\n"
     ]
    }
   ],
   "source": [
    "set1 = {1, 2, 3, 4}\n",
    "set2 = {3, 4, 5, 6}\n",
    "\n",
    "diff_set = set1.difference(set2)\n",
    "print(diff_set)  # Output: {1, 2}\n"
   ]
  },
  {
   "cell_type": "markdown",
   "id": "144d2251-165a-4c48-924b-eed45839de74",
   "metadata": {},
   "source": [
    "#### 12.Find the symmetric difference between two sets "
   ]
  },
  {
   "cell_type": "code",
   "execution_count": 13,
   "id": "8f98fe62-c443-411b-99c5-4e89e1e14b7c",
   "metadata": {},
   "outputs": [
    {
     "name": "stdout",
     "output_type": "stream",
     "text": [
      "{1, 2, 5, 6}\n"
     ]
    }
   ],
   "source": [
    "set1 = {1, 2, 3, 4}\n",
    "set2 = {3, 4, 5, 6}\n",
    "\n",
    "sym_diff_set = set1.symmetric_difference(set2)\n",
    "print(sym_diff_set)  # Output: {1, 2, 5, 6}\n"
   ]
  },
  {
   "cell_type": "markdown",
   "id": "68020590-cb59-4238-a664-3e2d4b57440d",
   "metadata": {},
   "source": [
    "#### 13.check if one set is a subset of another "
   ]
  },
  {
   "cell_type": "code",
   "execution_count": 14,
   "id": "e9ace701-55d5-4fe9-a728-e8d38798d5e3",
   "metadata": {},
   "outputs": [
    {
     "name": "stdout",
     "output_type": "stream",
     "text": [
      "True\n",
      "False\n"
     ]
    }
   ],
   "source": [
    "set1 = {1, 2}\n",
    "set2 = {1, 2, 3, 4}\n",
    "\n",
    "print(set1 <= set2)  # Output: True\n",
    "print(set2 <= set1)  # Output: False\n"
   ]
  },
  {
   "cell_type": "markdown",
   "id": "849849e6-94f6-412c-aac7-b9044fde7794",
   "metadata": {},
   "source": [
    "#### 14.check if one set is a superset of another"
   ]
  },
  {
   "cell_type": "code",
   "execution_count": 15,
   "id": "2be40cde-cea3-4e92-8b10-1033100ae3f0",
   "metadata": {},
   "outputs": [
    {
     "name": "stdout",
     "output_type": "stream",
     "text": [
      "True\n",
      "False\n"
     ]
    }
   ],
   "source": [
    "set1 = {1, 2, 3, 4}\n",
    "set2 = {1, 2}\n",
    "\n",
    "print(set1.issuperset(set2))  # Output: True\n",
    "print(set2.issuperset(set1))  # Output: False\n"
   ]
  },
  {
   "cell_type": "markdown",
   "id": "f40de79f-5259-4171-84b3-a0bd4ccfe9d6",
   "metadata": {},
   "source": [
    "#### 15.check if two sets are disjoint"
   ]
  },
  {
   "cell_type": "code",
   "execution_count": 16,
   "id": "255e37f7-4e49-4185-ad94-728d6f7315fb",
   "metadata": {},
   "outputs": [
    {
     "name": "stdout",
     "output_type": "stream",
     "text": [
      "True\n",
      "False\n"
     ]
    }
   ],
   "source": [
    "set1 = {1, 2, 3}\n",
    "set2 = {4, 5, 6}\n",
    "set3 = {3, 4, 5}\n",
    "\n",
    "print(set1.isdisjoint(set2))  # Output: True  (no common elements)\n",
    "print(set1.isdisjoint(set3))  # Output: False (3 is common)\n"
   ]
  },
  {
   "cell_type": "markdown",
   "id": "5e0296de-7967-450e-bdcc-2bed29078289",
   "metadata": {},
   "source": [
    "## Set Apllications "
   ]
  },
  {
   "cell_type": "markdown",
   "id": "19d6ca09-dc3d-4d07-9bb3-b63ef8f1ee13",
   "metadata": {},
   "source": [
    "#### 16.Remove duplicates from a list using a set"
   ]
  },
  {
   "cell_type": "code",
   "execution_count": 17,
   "id": "4d809cba-e31a-4071-ad52-4ecc2906903e",
   "metadata": {},
   "outputs": [
    {
     "name": "stdout",
     "output_type": "stream",
     "text": [
      "[1, 2, 3, 4, 5]\n"
     ]
    }
   ],
   "source": [
    "my_list = [1, 2, 2, 3, 4, 4, 5]\n",
    "\n",
    "# Remove duplicates by converting to a set\n",
    "unique_set = set(my_list)\n",
    "\n",
    "# Convert back to list\n",
    "unique_list = list(unique_set)\n",
    "\n",
    "print(unique_list)  # Output: [1, 2, 3, 4, 5] (order may vary)\n"
   ]
  },
  {
   "cell_type": "markdown",
   "id": "e85b3854-03bc-4c85-a921-a528d45763e9",
   "metadata": {},
   "source": [
    "#### 17.convert a list to a set and back to a list"
   ]
  },
  {
   "cell_type": "code",
   "execution_count": 18,
   "id": "11d6dabf-93f9-491f-bff2-e82fa68173cd",
   "metadata": {},
   "outputs": [
    {
     "name": "stdout",
     "output_type": "stream",
     "text": [
      "[1, 2, 3, 4, 5]\n"
     ]
    }
   ],
   "source": [
    "my_list = [1, 2, 2, 3, 4, 4, 5]\n",
    "\n",
    "# Convert list to set (removes duplicates)\n",
    "my_set = set(my_list)\n",
    "\n",
    "# Convert set back to list\n",
    "new_list = list(my_set)\n",
    "\n",
    "print(new_list)  # Output: [1, 2, 3, 4, 5] (order may vary)\n"
   ]
  },
  {
   "cell_type": "markdown",
   "id": "c111a8c2-f798-4648-843d-673354bc3ad8",
   "metadata": {},
   "source": [
    "#### 18.Find a common elements in two lists using sets "
   ]
  },
  {
   "cell_type": "code",
   "execution_count": 19,
   "id": "238af340-6c84-4edd-af69-d1c12513f6c1",
   "metadata": {},
   "outputs": [
    {
     "name": "stdout",
     "output_type": "stream",
     "text": [
      "[4, 5]\n"
     ]
    }
   ],
   "source": [
    "list1 = [1, 2, 3, 4, 5]\n",
    "list2 = [4, 5, 6, 7, 8]\n",
    "\n",
    "# Convert lists to sets\n",
    "set1 = set(list1)\n",
    "set2 = set(list2)\n",
    "\n",
    "# Find common elements (intersection)\n",
    "common_elements = set1.intersection(set2)\n",
    "\n",
    "# Convert back to list if needed\n",
    "common_list = list(common_elements)\n",
    "\n",
    "print(common_list)  # Output: [4, 5] (order may vary)\n"
   ]
  },
  {
   "cell_type": "markdown",
   "id": "f232c731-b2e2-49ec-ae61-a8a962ea4a7e",
   "metadata": {},
   "source": [
    "#### 19.Get elements in one list but not in another using sets "
   ]
  },
  {
   "cell_type": "code",
   "execution_count": 20,
   "id": "2ccfdb38-4194-4ea1-90aa-b77d0c347ddc",
   "metadata": {},
   "outputs": [
    {
     "name": "stdout",
     "output_type": "stream",
     "text": [
      "[1, 2, 3]\n"
     ]
    }
   ],
   "source": [
    "list1 = [1, 2, 3, 4, 5]\n",
    "list2 = [4, 5, 6, 7, 8]\n",
    "\n",
    "# Convert lists to sets\n",
    "set1 = set(list1)\n",
    "set2 = set(list2)\n",
    "\n",
    "# Elements in list1 but not in list2\n",
    "diff = set1.difference(set2)\n",
    "\n",
    "# Convert back to list if needed\n",
    "diff_list = list(diff)\n",
    "\n",
    "print(diff_list)  # Output: [1, 2, 3] (order may vary)\n"
   ]
  },
  {
   "cell_type": "markdown",
   "id": "d9bcaf92-7d4f-42d5-af35-63bb0b8b83b6",
   "metadata": {},
   "source": [
    "#### 20.Use set comprehension to generate a set "
   ]
  },
  {
   "cell_type": "code",
   "execution_count": 21,
   "id": "9a5652e0-368f-48cb-85dc-12bdf3bfee49",
   "metadata": {},
   "outputs": [
    {
     "name": "stdout",
     "output_type": "stream",
     "text": [
      "{64, 1, 4, 36, 100, 9, 16, 49, 81, 25}\n"
     ]
    }
   ],
   "source": [
    "squares = {x**2 for x in range(1, 11)}\n",
    "print(squares)\n",
    "# Output: {1, 4, 9, 16, 25, 36, 49, 64, 81, 100}\n"
   ]
  },
  {
   "cell_type": "markdown",
   "id": "7a7ad3d2-949d-4702-98da-fe5e0255f53b",
   "metadata": {},
   "source": [
    "## Frozen Set Programs"
   ]
  },
  {
   "cell_type": "markdown",
   "id": "f97ffe19-f5a3-47e9-826d-5ab682c8fb37",
   "metadata": {},
   "source": [
    "#### 21.Create and print a frozenset"
   ]
  },
  {
   "cell_type": "code",
   "execution_count": 22,
   "id": "937addc9-2f42-4d06-8cfd-75e2c3efdf09",
   "metadata": {},
   "outputs": [
    {
     "name": "stdout",
     "output_type": "stream",
     "text": [
      "frozenset({1, 2, 3, 4})\n"
     ]
    }
   ],
   "source": [
    "# Create a frozenset from a list\n",
    "my_frozenset = frozenset([1, 2, 3, 4])\n",
    "\n",
    "print(my_frozenset)\n",
    "# Output: frozenset({1, 2, 3, 4})\n"
   ]
  },
  {
   "cell_type": "code",
   "execution_count": null,
   "id": "6e261cd3-7f46-4d1a-b836-a2c652cdc425",
   "metadata": {},
   "outputs": [],
   "source": []
  }
 ],
 "metadata": {
  "kernelspec": {
   "display_name": "Python 3 (ipykernel)",
   "language": "python",
   "name": "python3"
  },
  "language_info": {
   "codemirror_mode": {
    "name": "ipython",
    "version": 3
   },
   "file_extension": ".py",
   "mimetype": "text/x-python",
   "name": "python",
   "nbconvert_exporter": "python",
   "pygments_lexer": "ipython3",
   "version": "3.12.7"
  }
 },
 "nbformat": 4,
 "nbformat_minor": 5
}
