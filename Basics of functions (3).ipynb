{
 "cells": [
  {
   "cell_type": "markdown",
   "id": "cc121077-d3f3-457d-93ce-7faf9f615d98",
   "metadata": {},
   "source": [
    "# Python - Functions\n"
   ]
  },
  {
   "cell_type": "markdown",
   "id": "4028564c-a84c-40a6-bef4-7ade7e35704f",
   "metadata": {},
   "source": [
    "# Example to Define a Python Function\n"
   ]
  },
  {
   "cell_type": "code",
   "execution_count": 5,
   "id": "498f9c91-7a85-4398-a1ca-0a659e869149",
   "metadata": {},
   "outputs": [
    {
     "name": "stdout",
     "output_type": "stream",
     "text": [
      "Hello World\n"
     ]
    }
   ],
   "source": [
    "def greetings():\n",
    "   \"This is docstring of greetings function\"\n",
    "   print(\"Hello World\")\n",
    "   return;\n",
    "greetings()    "
   ]
  },
  {
   "cell_type": "markdown",
   "id": "e6294e73-8168-483f-ad0d-2836bfca1b8e",
   "metadata": {},
   "source": [
    "# Calling a Python Function\n"
   ]
  },
  {
   "cell_type": "code",
   "execution_count": 1,
   "id": "653b32d3-ff26-498f-b0f6-b6214e5708ee",
   "metadata": {},
   "outputs": [
    {
     "name": "stdout",
     "output_type": "stream",
     "text": [
      "I'm first call to user defined function!\n",
      "Again second call to the same function\n"
     ]
    }
   ],
   "source": [
    "\n",
    "def printme( str ):\n",
    "   \"This prints a passed string into this function\"\n",
    "   print (str)\n",
    "   return;\n",
    "\n",
    "\n",
    "printme(\"I'm first call to user defined function!\")\n",
    "printme(\"Again second call to the same function\")"
   ]
  },
  {
   "cell_type": "code",
   "execution_count": 2,
   "id": "ab7a1c3b-cd2c-4379-8d03-a60c012a718d",
   "metadata": {},
   "outputs": [
    {
     "name": "stdout",
     "output_type": "stream",
     "text": [
      "Hello Sham\n",
      "Hello Pratima\n",
      "Hello Ram\n"
     ]
    }
   ],
   "source": [
    "\n",
    "def greetings(name):\n",
    "   \"This is docstring of greetings function\"\n",
    "   print (\"Hello {}\".format(name))\n",
    "   return\n",
    "   \n",
    "greetings(\"Sham\")\n",
    "greetings(\"Pratima\")\n",
    "greetings(\"Ram\")"
   ]
  },
  {
   "cell_type": "code",
   "execution_count": 3,
   "id": "163f73ec-c40e-470c-841f-22f9977f8c19",
   "metadata": {},
   "outputs": [
    {
     "name": "stdout",
     "output_type": "stream",
     "text": [
      "ID before passing: 1298992604064\n",
      "ID inside the function: 1298992604064\n"
     ]
    }
   ],
   "source": [
    "\n",
    "def testfunction(arg):\n",
    "   print (\"ID inside the function:\", id(arg))\n",
    "\n",
    "var = \"Hello\"\n",
    "print (\"ID before passing:\", id(var))\n",
    "testfunction(var)"
   ]
  },
  {
   "cell_type": "code",
   "execution_count": 4,
   "id": "7f2264a2-107a-4de5-b046-59e49c1a3362",
   "metadata": {},
   "outputs": [
    {
     "name": "stdout",
     "output_type": "stream",
     "text": [
      "ID before passing: 140704439347928\n",
      "ID inside the function: 140704439347928\n",
      "new object after increment 11 140704439347960\n",
      "value after function call 10\n"
     ]
    }
   ],
   "source": [
    "\n",
    "def testfunction(arg):\n",
    "   print (\"ID inside the function:\", id(arg))\n",
    "   arg = arg + 1\n",
    "   print (\"new object after increment\", arg, id(arg))\n",
    "\n",
    "var=10\n",
    "print (\"ID before passing:\", id(var))\n",
    "testfunction(var)\n",
    "print (\"value after function call\", var)"
   ]
  },
  {
   "cell_type": "code",
   "execution_count": 5,
   "id": "4ed005a7-987a-4822-a0c0-e42c69d78453",
   "metadata": {},
   "outputs": [
    {
     "name": "stdout",
     "output_type": "stream",
     "text": [
      "ID before passing: 1298992656640\n",
      "Inside function: [10, 20, 30, 40]\n",
      "ID inside the function: 1298992656640\n",
      "list after function call [10, 20, 30, 40, 100]\n"
     ]
    }
   ],
   "source": [
    "\n",
    "def testfunction(arg):\n",
    "   print (\"Inside function:\",arg)\n",
    "   print (\"ID inside the function:\", id(arg))\n",
    "   arg=arg.append(100)\n",
    "   \n",
    "var=[10, 20, 30, 40]\n",
    "print (\"ID before passing:\", id(var))\n",
    "testfunction(var)\n",
    "print (\"list after function call\", var)"
   ]
  },
  {
   "cell_type": "markdown",
   "id": "cddfc5f3-29f6-45d7-8fd4-d18268e755db",
   "metadata": {},
   "source": [
    "# Keyword Arguments\n"
   ]
  },
  {
   "cell_type": "code",
   "execution_count": 7,
   "id": "857e60e4-2d2b-4bd7-bcaa-0794ff255372",
   "metadata": {},
   "outputs": [
    {
     "name": "stdout",
     "output_type": "stream",
     "text": [
      "Name:  miki\n",
      "Age  50\n"
     ]
    }
   ],
   "source": [
    "\n",
    "def printinfo( name, age ):\n",
    "   \"This prints a passed info into this function\"\n",
    "   print (\"Name: \", name)\n",
    "   print (\"Age \", age)\n",
    "   return;\n",
    "\n",
    "printinfo( age=50, name=\"miki\" )"
   ]
  },
  {
   "cell_type": "markdown",
   "id": "a5578556-9c90-4a93-85d4-175028dbbbce",
   "metadata": {},
   "source": [
    "# Default Arguments\n"
   ]
  },
  {
   "cell_type": "code",
   "execution_count": 8,
   "id": "7b7814da-fc0b-41d3-babc-22c2b7944f64",
   "metadata": {},
   "outputs": [
    {
     "name": "stdout",
     "output_type": "stream",
     "text": [
      "Name:  mdl\n",
      "Age  50\n",
      "Name:  mdl\n",
      "Age  35\n"
     ]
    }
   ],
   "source": [
    "\n",
    "def printinfo( name, age = 35 ):\n",
    "   \"This prints a passed info into this function\"\n",
    "   print (\"Name: \", name)\n",
    "   print (\"Age \", age)\n",
    "   return;\n",
    "\n",
    "printinfo( age=50, name=\"mdl\" )\n",
    "printinfo( name=\"mdl\" )"
   ]
  },
  {
   "cell_type": "markdown",
   "id": "8945542e-5d31-4352-adff-f707518c880d",
   "metadata": {},
   "source": [
    "# Positional-only arguments\n"
   ]
  },
  {
   "cell_type": "code",
   "execution_count": 9,
   "id": "1e25d482-651a-4109-b214-7e52c0530e2a",
   "metadata": {},
   "outputs": [
    {
     "name": "stdout",
     "output_type": "stream",
     "text": [
      "Evaluating positional-only arguments: \n",
      "66\n"
     ]
    }
   ],
   "source": [
    "def posFun(x, y, /, z):\n",
    "    print(x + y + z)\n",
    "\n",
    "print(\"Evaluating positional-only arguments: \")\n",
    "posFun(33, 22, z=11) "
   ]
  },
  {
   "cell_type": "markdown",
   "id": "09437714-aac9-4e7a-b21e-a716c604b1fd",
   "metadata": {},
   "source": [
    "# Keyword-only arguments\n"
   ]
  },
  {
   "cell_type": "code",
   "execution_count": 10,
   "id": "a5f40de1-97fe-4619-920a-c2536457051f",
   "metadata": {},
   "outputs": [
    {
     "name": "stdout",
     "output_type": "stream",
     "text": [
      "Evaluating keyword-only arguments: \n",
      "240\n"
     ]
    }
   ],
   "source": [
    "def posFun(*, num1, num2, num3):\n",
    "    print(num1 * num2 * num3)\n",
    "\n",
    "print(\"Evaluating keyword-only arguments: \")\n",
    "posFun(num3=6, num2=8, num1=5) "
   ]
  },
  {
   "cell_type": "markdown",
   "id": "f11d896d-efd4-4cfe-9a5f-992594fabbf5",
   "metadata": {},
   "source": [
    "# Arbitrary or Variable-length Arguments\n"
   ]
  },
  {
   "cell_type": "code",
   "execution_count": 11,
   "id": "5924d243-bdad-4ccb-a6b7-b2d69daba364",
   "metadata": {},
   "outputs": [
    {
     "name": "stdout",
     "output_type": "stream",
     "text": [
      "Output is: \n",
      "10\n",
      "Output is: \n",
      "70\n",
      "60\n",
      "50\n"
     ]
    }
   ],
   "source": [
    "\n",
    "def printinfo( arg1, *vartuple ):\n",
    "   \"This prints a variable passed arguments\"\n",
    "   print (\"Output is: \")\n",
    "   print (arg1)\n",
    "   for var in vartuple:\n",
    "      print (var)\n",
    "   return;\n",
    "\n",
    "\n",
    "printinfo( 10 )\n",
    "printinfo( 70, 60, 50 )"
   ]
  },
  {
   "cell_type": "markdown",
   "id": "41c1a972-9250-4248-8004-0cd6eb2e193f",
   "metadata": {},
   "source": [
    "# Python Function with Return Value\n"
   ]
  },
  {
   "cell_type": "code",
   "execution_count": 3,
   "id": "5046b533-8dd5-44c6-abd7-58932e69bbfb",
   "metadata": {},
   "outputs": [
    {
     "name": "stdout",
     "output_type": "stream",
     "text": [
      "a = 10 b = 20 a+b = 30\n"
     ]
    }
   ],
   "source": [
    "def add(x,y):\n",
    "   z=x+y\n",
    "   return z\n",
    "a=10\n",
    "b=20\n",
    "result = add(a,b)\n",
    "print (\"a = {} b = {} a+b = {}\".format(a, b, result))"
   ]
  },
  {
   "cell_type": "markdown",
   "id": "d824f366-aa1c-4f70-8c8f-ded0709a8079",
   "metadata": {},
   "source": [
    "# The Anonymous Functions"
   ]
  },
  {
   "cell_type": "code",
   "execution_count": 12,
   "id": "92020673-9c18-4795-8fa4-a8b3d94203c0",
   "metadata": {},
   "outputs": [
    {
     "name": "stdout",
     "output_type": "stream",
     "text": [
      "Value of total :  30\n",
      "Value of total :  40\n"
     ]
    }
   ],
   "source": [
    "\n",
    "sum = lambda arg1, arg2: arg1 + arg2;\n",
    "\n",
    "# Now you can call sum as a function\n",
    "print (\"Value of total : \", sum( 10, 20 ))\n",
    "print (\"Value of total : \", sum( 20, 20 ))"
   ]
  },
  {
   "cell_type": "code",
   "execution_count": 13,
   "id": "79f3170c-4d4d-4071-8e95-2c1bc78e8cd8",
   "metadata": {},
   "outputs": [
    {
     "name": "stdout",
     "output_type": "stream",
     "text": [
      "Inside the function local total :  30\n"
     ]
    },
    {
     "ename": "NameError",
     "evalue": "name 'total' is not defined",
     "output_type": "error",
     "traceback": [
      "\u001b[1;31m---------------------------------------------------------------------------\u001b[0m",
      "\u001b[1;31mNameError\u001b[0m                                 Traceback (most recent call last)",
      "Cell \u001b[1;32mIn[13], line 8\u001b[0m\n\u001b[0;32m      5\u001b[0m    \u001b[38;5;28;01mreturn\u001b[39;00m total;\n\u001b[0;32m      7\u001b[0m \u001b[38;5;28msum\u001b[39m( \u001b[38;5;241m10\u001b[39m, \u001b[38;5;241m20\u001b[39m );\n\u001b[1;32m----> 8\u001b[0m \u001b[38;5;28mprint\u001b[39m (\u001b[38;5;124m\"\u001b[39m\u001b[38;5;124mOutside the function global total : \u001b[39m\u001b[38;5;124m\"\u001b[39m, total)\n",
      "\u001b[1;31mNameError\u001b[0m: name 'total' is not defined"
     ]
    }
   ],
   "source": [
    "\n",
    "def sum( arg1, arg2 ):\n",
    "\n",
    "   total = arg1 + arg2; \n",
    "   print (\"Inside the function local total : \", total)\n",
    "   return total;\n",
    "\n",
    "sum( 10, 20 );\n",
    "print (\"Outside the function global total : \", total) "
   ]
  },
  {
   "cell_type": "code",
   "execution_count": null,
   "id": "a6c68ed7-27d7-4635-b715-59a0b5c0e1ed",
   "metadata": {},
   "outputs": [],
   "source": []
  }
 ],
 "metadata": {
  "kernelspec": {
   "display_name": "Python 3 (ipykernel)",
   "language": "python",
   "name": "python3"
  },
  "language_info": {
   "codemirror_mode": {
    "name": "ipython",
    "version": 3
   },
   "file_extension": ".py",
   "mimetype": "text/x-python",
   "name": "python",
   "nbconvert_exporter": "python",
   "pygments_lexer": "ipython3",
   "version": "3.12.7"
  }
 },
 "nbformat": 4,
 "nbformat_minor": 5
}
