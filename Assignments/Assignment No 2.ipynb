{
 "cells": [
  {
   "cell_type": "markdown",
   "id": "5b34265b-a310-404c-8be7-892edc65f7f7",
   "metadata": {},
   "source": [
    "# Assignment No 2"
   ]
  },
  {
   "cell_type": "markdown",
   "id": "552e631e-5c0f-4d3e-bc7d-61c6f0754804",
   "metadata": {},
   "source": [
    "# 1. Store and display student information"
   ]
  },
  {
   "cell_type": "code",
   "execution_count": 2,
   "id": "7153946e-6436-4149-b718-ee9eec869d7d",
   "metadata": {},
   "outputs": [
    {
     "name": "stdout",
     "output_type": "stream",
     "text": [
      "Name: Ravi\n",
      "Age: 16\n",
      "Grade: 10th Grade\n"
     ]
    }
   ],
   "source": [
    "def student_info():\n",
    "    student = (\"Ravi\", 16, \"10th Grade\")\n",
    "    print(\"Name:\", student[0])\n",
    "    print(\"Age:\", student[1])\n",
    "    print(\"Grade:\", student[2])\n",
    "\n",
    "student_info()\n"
   ]
  },
  {
   "cell_type": "markdown",
   "id": "73ae4ad8-5558-41db-9ba4-5600942a5782",
   "metadata": {},
   "source": [
    "# 2. List prices of grocery items and total them"
   ]
  },
  {
   "cell_type": "code",
   "execution_count": 3,
   "id": "c5f5fe6f-e3ac-42a1-9ea9-ded8603d01c9",
   "metadata": {},
   "outputs": [
    {
     "name": "stdout",
     "output_type": "stream",
     "text": [
      "Prices: (10, 25, 15, 30)\n",
      "Total: 80\n"
     ]
    }
   ],
   "source": [
    "def grocery_prices():\n",
    "    prices = (10, 25, 15, 30)\n",
    "    print(\"Prices:\", prices)\n",
    "    print(\"Total:\", sum(prices))\n",
    "\n",
    "grocery_prices()\n"
   ]
  },
  {
   "cell_type": "markdown",
   "id": "65d3e813-5946-42a8-8f4d-3f2e07f9168f",
   "metadata": {},
   "source": [
    "# 3. Pair items with prices using tuples"
   ]
  },
  {
   "cell_type": "code",
   "execution_count": 5,
   "id": "15a82fa5-556a-4e55-8707-c1ade32ca2d3",
   "metadata": {},
   "outputs": [
    {
     "name": "stdout",
     "output_type": "stream",
     "text": [
      "Milk: ₹25\n",
      "Eggs: ₹50\n",
      "Bread: ₹20\n"
     ]
    }
   ],
   "source": [
    "def items_with_prices():\n",
    "    items = ((\"Milk\", 25), (\"Eggs\", 50), (\"Bread\", 20))\n",
    "    for item, price in items:\n",
    "        print(f\"{item}: ₹{price}\")\n",
    "\n",
    "items_with_prices()\n"
   ]
  },
  {
   "cell_type": "markdown",
   "id": "824ad231-0727-4479-8d6b-ddbb60d25fb1",
   "metadata": {},
   "source": [
    " # 4. Store and display train schedule as tuples"
   ]
  },
  {
   "cell_type": "code",
   "execution_count": 7,
   "id": "bdb565a8-3ed3-45dd-8e9b-1b70102c7fe4",
   "metadata": {},
   "outputs": [
    {
     "name": "stdout",
     "output_type": "stream",
     "text": [
      "Rajdhani departs at 10:00\n",
      "Shatabdi departs at 12:30\n",
      "Duronto departs at 17:00\n"
     ]
    }
   ],
   "source": [
    "def train_schedule():\n",
    "    schedule = ((\"Rajdhani\", \"10:00\"), (\"Shatabdi\", \"12:30\"), (\"Duronto\", \"17:00\"))\n",
    "    for train, time in schedule:\n",
    "        print(f\"{train} departs at {time}\")\n",
    "\n",
    "train_schedule()\n"
   ]
  },
  {
   "cell_type": "markdown",
   "id": "d2c64dea-d43b-41e2-95ea-868fd027137e",
   "metadata": {},
   "source": [
    "#  5. Sort employee records by salary\n"
   ]
  },
  {
   "cell_type": "code",
   "execution_count": 8,
   "id": "b5b92c87-785d-4148-9315-b9bf24a49f4c",
   "metadata": {},
   "outputs": [
    {
     "name": "stdout",
     "output_type": "stream",
     "text": [
      "('Raj', 30000)\n",
      "('John', 40000)\n",
      "('Alice', 55000)\n"
     ]
    }
   ],
   "source": [
    "def sort_employees():\n",
    "    employees = ((\"John\", 40000), (\"Alice\", 55000), (\"Raj\", 30000))\n",
    "    sorted_employees = sorted(employees, key=lambda x: x[1])\n",
    "    for emp in sorted_employees:\n",
    "        print(emp)\n",
    "\n",
    "sort_employees()\n"
   ]
  },
  {
   "cell_type": "markdown",
   "id": "a4738808-9cfb-43a3-bce7-a81d583db1b0",
   "metadata": {},
   "source": [
    "#  6. Count how many students scored above 75 marks\n"
   ]
  },
  {
   "cell_type": "code",
   "execution_count": 9,
   "id": "f0cd2240-bf37-4a1a-af8f-4ff59a0c7551",
   "metadata": {},
   "outputs": [
    {
     "name": "stdout",
     "output_type": "stream",
     "text": [
      "Students scored above 75: 3\n"
     ]
    }
   ],
   "source": [
    "def count_above_75():\n",
    "    marks = (67, 88, 92, 74, 76, 55)\n",
    "    count = sum(1 for mark in marks if mark > 75)\n",
    "    print(\"Students scored above 75:\", count)\n",
    "\n",
    "count_above_75()\n"
   ]
  },
  {
   "cell_type": "markdown",
   "id": "eaa0d71d-b7c4-42a7-af53-17c1afaef9e3",
   "metadata": {},
   "source": [
    "# 7. Create a tuple of stock prices and find the max"
   ]
  },
  {
   "cell_type": "code",
   "execution_count": 10,
   "id": "90531c4f-edbd-4b67-9dd1-c527279b7637",
   "metadata": {},
   "outputs": [
    {
     "name": "stdout",
     "output_type": "stream",
     "text": [
      "Maximum stock price: 170.1\n"
     ]
    }
   ],
   "source": [
    "def max_stock_price():\n",
    "    prices = (154.5, 160.2, 149.8, 170.1)\n",
    "    print(\"Maximum stock price:\", max(prices))\n",
    "\n",
    "max_stock_price()\n"
   ]
  },
  {
   "cell_type": "markdown",
   "id": "6ca4f237-f7f8-4610-b189-4f59602ed11d",
   "metadata": {},
   "source": [
    "# 8. Log temperature readings and find the average"
   ]
  },
  {
   "cell_type": "code",
   "execution_count": 11,
   "id": "3e77a476-8a17-4520-a43c-60c502e24ed2",
   "metadata": {},
   "outputs": [
    {
     "name": "stdout",
     "output_type": "stream",
     "text": [
      "Average temperature: 30.42\n"
     ]
    }
   ],
   "source": [
    "def average_temperature():\n",
    "    temperatures = (29.5, 30.0, 32.2, 31.5, 28.9)\n",
    "    avg_temp = sum(temperatures) / len(temperatures)\n",
    "    print(\"Average temperature:\", round(avg_temp, 2))\n",
    "\n",
    "average_temperature()\n"
   ]
  },
  {
   "cell_type": "markdown",
   "id": "e28caa95-7f8a-40ca-86c8-9d2c3a13d089",
   "metadata": {},
   "source": [
    "#  9. Schedule appointments (name, time)\n"
   ]
  },
  {
   "cell_type": "code",
   "execution_count": 13,
   "id": "62163fdb-19aa-4c4f-b13d-c7d971b72331",
   "metadata": {},
   "outputs": [
    {
     "name": "stdout",
     "output_type": "stream",
     "text": [
      "Doctor at 10:00 AM\n",
      "Meeting at 2:00 PM\n"
     ]
    }
   ],
   "source": [
    "\n",
    "def appointments_schedule():\n",
    "    appointments = ((\"Doctor\", \"10:00 AM\"), (\"Meeting\", \"2:00 PM\"))\n",
    "    for task, time in appointments:\n",
    "        print(f\"{task} at {time}\")\n",
    "\n",
    "appointments_schedule()\n"
   ]
  },
  {
   "cell_type": "markdown",
   "id": "b186bf72-a271-41f4-98cd-0d21d477b12c",
   "metadata": {},
   "source": [
    "# 10. Store contact info (name, phone number)"
   ]
  },
  {
   "cell_type": "code",
   "execution_count": 14,
   "id": "71a991a0-ffa8-4acf-a178-1d1a794e46b5",
   "metadata": {},
   "outputs": [
    {
     "name": "stdout",
     "output_type": "stream",
     "text": [
      "Anil: 9876543210\n",
      "Priya: 9123456780\n"
     ]
    }
   ],
   "source": [
    "def contact_info():\n",
    "    contacts = ((\"Anil\", \"9876543210\"), (\"Priya\", \"9123456780\"))\n",
    "    for name, number in contacts:\n",
    "        print(f\"{name}: {number}\")\n",
    "\n",
    "contact_info()\n"
   ]
  },
  {
   "cell_type": "markdown",
   "id": "f177fbd7-6219-4050-a852-d5f1e7ec17fe",
   "metadata": {},
   "source": [
    " # 11. Display exam schedule with subject and time"
   ]
  },
  {
   "cell_type": "code",
   "execution_count": 16,
   "id": "0e150c72-ec43-480b-8714-b2b08726265c",
   "metadata": {},
   "outputs": [
    {
     "name": "stdout",
     "output_type": "stream",
     "text": [
      "Math exam at 9:00 AM\n",
      "Science exam at 11:30 AM\n",
      "English exam at 2:00 PM\n"
     ]
    }
   ],
   "source": [
    "def exam_schedule():\n",
    "    exams = ((\"Math\", \"9:00 AM\"), (\"Science\", \"11:30 AM\"), (\"English\", \"2:00 PM\"))\n",
    "    for subject, time in exams:\n",
    "        print(f\"{subject} exam at {time}\")\n",
    "\n",
    "exam_schedule()\n"
   ]
  }
 ],
 "metadata": {
  "kernelspec": {
   "display_name": "Python 3 (ipykernel)",
   "language": "python",
   "name": "python3"
  },
  "language_info": {
   "codemirror_mode": {
    "name": "ipython",
    "version": 3
   },
   "file_extension": ".py",
   "mimetype": "text/x-python",
   "name": "python",
   "nbconvert_exporter": "python",
   "pygments_lexer": "ipython3",
   "version": "3.12.7"
  }
 },
 "nbformat": 4,
 "nbformat_minor": 5
}
