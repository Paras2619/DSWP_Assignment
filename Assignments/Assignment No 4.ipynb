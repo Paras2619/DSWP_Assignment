{
 "cells": [
  {
   "cell_type": "markdown",
   "id": "27f6da6f-66c2-4178-b74b-22406bba8987",
   "metadata": {},
   "source": [
    "# Assignment No 4"
   ]
  },
  {
   "cell_type": "markdown",
   "id": "5c0774dc-465d-4db9-a596-24f6cee417d2",
   "metadata": {},
   "source": [
    "# 1.Write a Python program to create a dictionary from user input."
   ]
  },
  {
   "cell_type": "code",
   "execution_count": 4,
   "id": "bb3718ea-1527-4b4c-9f30-970df38266db",
   "metadata": {},
   "outputs": [
    {
     "name": "stdin",
     "output_type": "stream",
     "text": [
      "Enter number of elements:  3\n",
      "Enter key:  Name\n",
      "Enter value:  Aryan\n",
      "Enter key:  Age\n",
      "Enter value:  20\n",
      "Enter key:  Course\n",
      "Enter value:  CS\n"
     ]
    },
    {
     "name": "stdout",
     "output_type": "stream",
     "text": [
      "{'Name': 'Aryan', 'Age': '20', 'Course': 'CS'}\n"
     ]
    }
   ],
   "source": [
    "n = int(input(\"Enter number of elements: \"))\n",
    "dictionary = {}\n",
    "for i in range(n):\n",
    "    key = input(\"Enter key: \")\n",
    "    value = input(\"Enter value: \")\n",
    "    dictionary[key] = value\n",
    "print(dictionary)"
   ]
  },
  {
   "cell_type": "markdown",
   "id": "65004401-fcac-4115-bde5-5912fab0dc12",
   "metadata": {},
   "source": [
    "# 2. Write a Python program to count the frequency of each character in a string using a dictionary"
   ]
  },
  {
   "cell_type": "code",
   "execution_count": 3,
   "id": "5ed70c53-8d03-49ac-b56a-ac631e0c6367",
   "metadata": {},
   "outputs": [
    {
     "name": "stdin",
     "output_type": "stream",
     "text": [
      "Enter a string:  apple\n"
     ]
    },
    {
     "name": "stdout",
     "output_type": "stream",
     "text": [
      "{'a': 1, 'p': 2, 'l': 1, 'e': 1}\n"
     ]
    }
   ],
   "source": [
    "n = input(\"Enter a string: \")\n",
    "dictionary = {}\n",
    "for i in n:\n",
    "    if i in dictionary:\n",
    "        dictionary[i] += 1\n",
    "    else:\n",
    "        dictionary[i] = 1\n",
    "print(dictionary)"
   ]
  },
  {
   "cell_type": "markdown",
   "id": "4a2cd6d2-f33b-4001-b532-db661025e194",
   "metadata": {},
   "source": [
    "# 3. Write a Python program to merge two dictionaries. If a key exists in both, keep the second's value."
   ]
  },
  {
   "cell_type": "code",
   "execution_count": 8,
   "id": "b2114ec3-c02e-41b9-8110-eb77f875f79d",
   "metadata": {},
   "outputs": [
    {
     "name": "stdin",
     "output_type": "stream",
     "text": [
      "Enter number of elements(d1):  2\n",
      "Enter key1:  a\n",
      "Enter value1:  1\n",
      "Enter key1:  b\n",
      "Enter value1:  2\n",
      "Enter number of elements(d2):  2\n",
      "Enter key2:  b\n",
      "Enter value2:  3\n",
      "Enter key2:  c\n",
      "Enter value2:  4\n"
     ]
    },
    {
     "name": "stdout",
     "output_type": "stream",
     "text": [
      "{'a': '1', 'b': '3', 'c': '4'}\n"
     ]
    }
   ],
   "source": [
    "n1 = int(input(\"Enter number of elements(d1): \"))\n",
    "d1 = {}\n",
    "for i in range(n1):\n",
    "    key1 = input(\"Enter key1: \")\n",
    "    value1 = input(\"Enter value1: \")\n",
    "    d1[key1] = value1\n",
    "n2 = int(input(\"Enter number of elements(d2): \"))\n",
    "d2 ={}\n",
    "for j in range(n2):\n",
    "    key2 = input(\"Enter key2: \")\n",
    "    value2 = input(\"Enter value2: \")\n",
    "    d2[key2] = value2\n",
    "d1.update(d2)\n",
    "print(d1)"
   ]
  },
  {
   "cell_type": "markdown",
   "id": "3190fdff-6763-499a-a397-0a1a0bb014a3",
   "metadata": {},
   "source": [
    "# 4. Write a Python program to print the key with maximum and minimum values from a dictionary"
   ]
  },
  {
   "cell_type": "code",
   "execution_count": 1,
   "id": "674707a8-d301-49df-99cd-08b091840d8c",
   "metadata": {},
   "outputs": [
    {
     "name": "stdout",
     "output_type": "stream",
     "text": [
      "Maximum: Science -> 90\n",
      "Minimum: English -> 76\n"
     ]
    }
   ],
   "source": [
    "marks = {'Math': 88, 'Science': 90, 'English': 76}\n",
    "max_key = max(marks, key=marks.get)\n",
    "max_value = marks[max_key]\n",
    "\n",
    "min_key = min(marks, key=marks.get)\n",
    "min_value = marks[min_key]\n",
    "\n",
    "\n",
    "print(f\"Maximum: {max_key} -> {max_value}\")\n",
    "print(f\"Minimum: {min_key} -> {min_value}\")\n"
   ]
  },
  {
   "cell_type": "markdown",
   "id": "1a891e97-fbaf-49f5-92b3-b76c23426355",
   "metadata": {},
   "source": [
    "# 5. Write a Python program to add a new key to a dictionary only if it doesn’t already exist. "
   ]
  },
  {
   "cell_type": "code",
   "execution_count": 2,
   "id": "52ff9114-5505-4dad-a93f-4f9172ad684c",
   "metadata": {},
   "outputs": [
    {
     "name": "stdout",
     "output_type": "stream",
     "text": [
      "{'name': 'John', 'age': 25, 'gender': 'Male'}\n"
     ]
    }
   ],
   "source": [
    "person = {'name': 'John', 'age': 25}\n",
    "\n",
    "key_to_add = 'gender'\n",
    "value_to_add = 'Male'\n",
    "\n",
    "if key_to_add not in person:\n",
    "    person[key_to_add] = value_to_add\n",
    "\n",
    "print(person)\n"
   ]
  },
  {
   "cell_type": "markdown",
   "id": "bb1e58cf-8c55-4f95-9cce-1f203142d764",
   "metadata": {},
   "source": [
    "# 6. Write a Python program to convert two lists into a dictionary. "
   ]
  },
  {
   "cell_type": "code",
   "execution_count": 3,
   "id": "f6a322f3-b9d5-46b6-ba63-c30fe62b984e",
   "metadata": {},
   "outputs": [
    {
     "name": "stdout",
     "output_type": "stream",
     "text": [
      "{'id': 101, 'name': 'Ravi', 'age': 20}\n"
     ]
    }
   ],
   "source": [
    "keys = ['id', 'name', 'age']\n",
    "values = [101, 'Ravi', 20]\n",
    "\n",
    "result = dict(zip(keys, values))\n",
    "\n",
    "print(result)\n",
    " "
   ]
  },
  {
   "cell_type": "markdown",
   "id": "3aa9b028-0acc-4c96-aeda-559c72587a92",
   "metadata": {},
   "source": [
    "# 7. Write a Python program to sort a dictionary by its values in ascending order."
   ]
  },
  {
   "cell_type": "code",
   "execution_count": 4,
   "id": "6a9c651b-a7f4-4cd3-a802-76458e09d555",
   "metadata": {},
   "outputs": [
    {
     "name": "stdout",
     "output_type": "stream",
     "text": [
      "{'y': 1, 'z': 2, 'x': 3}\n"
     ]
    }
   ],
   "source": [
    "data = {'x': 3, 'y': 1, 'z': 2}\n",
    "\n",
    "sorted_data = dict(sorted(data.items(), key=lambda item: item[1]))\n",
    "print(sorted_data)\n"
   ]
  },
  {
   "cell_type": "markdown",
   "id": "6acdcbc8-7c2d-49f7-a091-1ffee94b0ad2",
   "metadata": {},
   "source": [
    "# 8. Write a Python program to delete a specified key from a dictionary."
   ]
  },
  {
   "cell_type": "code",
   "execution_count": 5,
   "id": "3ae944d2-a60c-4cc4-87d9-8361b3325b11",
   "metadata": {},
   "outputs": [
    {
     "name": "stdout",
     "output_type": "stream",
     "text": [
      "{'a': 1, 'c': 3}\n"
     ]
    }
   ],
   "source": [
    "d = {'a': 1, 'b': 2, 'c': 3}\n",
    "\n",
    "key_to_delete = 'b\n",
    "if key_to_delete in d:\n",
    "    del d[key_to_delete]\n",
    "\n",
    "print(d)\n"
   ]
  },
  {
   "cell_type": "markdown",
   "id": "ace03d39-f240-45dd-8f4c-cd056dc94225",
   "metadata": {},
   "source": [
    "# 9. Write a Python program to count frequency of each word using a dictionary."
   ]
  },
  {
   "cell_type": "code",
   "execution_count": 6,
   "id": "554065d7-85da-40ac-b724-47bf226b7e98",
   "metadata": {},
   "outputs": [
    {
     "name": "stdout",
     "output_type": "stream",
     "text": [
      "{'python': 2, 'is': 2, 'easy': 1, 'and': 1, 'fun': 1}\n"
     ]
    }
   ],
   "source": [
    "text = \"python is easy and python is fun\"\n",
    "words = text.split()\n",
    "word_freq = {)\n",
    "for word in words:\n",
    "    if word in word_freq:\n",
    "        word_freq[word] += 1\n",
    "    else:\n",
    "        word_freq[word] = 1\n",
    "print(word_freq)\n"
   ]
  },
  {
   "cell_type": "markdown",
   "id": "9c9896e4-e19a-49b7-9e34-ca003664fdf2",
   "metadata": {},
   "source": [
    "# 10. Write a Python program to swap keys and values in a dictionary."
   ]
  },
  {
   "cell_type": "code",
   "execution_count": 7,
   "id": "e44aa018-564b-4a3c-8e01-159bec870805",
   "metadata": {},
   "outputs": [
    {
     "name": "stdout",
     "output_type": "stream",
     "text": [
      "{1: 'one', 2: 'two', 3: 'three'}\n"
     ]
    }
   ],
   "source": [
    "original = {'one': 1, 'two': 2, 'three': 3}\n",
    "\n",
    "swapped = {value: key for key, value in original.items()}\n",
    "\n",
    "print(swapped)\n"
   ]
  },
  {
   "cell_type": "code",
   "execution_count": null,
   "id": "e72cbbe5-b27d-40d5-ae82-efd69463d0ec",
   "metadata": {},
   "outputs": [],
   "source": []
  }
 ],
 "metadata": {
  "kernelspec": {
   "display_name": "Python 3 (ipykernel)",
   "language": "python",
   "name": "python3"
  },
  "language_info": {
   "codemirror_mode": {
    "name": "ipython",
    "version": 3
   },
   "file_extension": ".py",
   "mimetype": "text/x-python",
   "name": "python",
   "nbconvert_exporter": "python",
   "pygments_lexer": "ipython3",
   "version": "3.12.7"
  }
 },
 "nbformat": 4,
 "nbformat_minor": 5
}
