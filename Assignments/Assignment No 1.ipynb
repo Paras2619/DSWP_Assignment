{
 "cells": [
  {
   "cell_type": "markdown",
   "id": "1f51a665-c87b-49d5-a531-37e171cb9173",
   "metadata": {},
   "source": [
    "# Assignment No 1"
   ]
  },
  {
   "cell_type": "markdown",
   "id": "d4d3434d-7bc0-4ac0-a4d4-746686f135ae",
   "metadata": {},
   "source": [
    "# 1. Check the given number is odd or even"
   ]
  },
  {
   "cell_type": "code",
   "execution_count": 1,
   "id": "1702108a-dac5-4b86-b289-2d7693975930",
   "metadata": {},
   "outputs": [
    {
     "name": "stdin",
     "output_type": "stream",
     "text": [
      "Enter a number:  22\n"
     ]
    },
    {
     "name": "stdout",
     "output_type": "stream",
     "text": [
      "22 is Even\n"
     ]
    }
   ],
   "source": [
    "def check_odd_even(num):\n",
    "    if num % 2 == 0:\n",
    "        print(f\"{num} is Even\")\n",
    "    else:\n",
    "        print(f\"{num} is Odd\n",
    "number = int(input(\"Enter a number: \"))\n",
    "\n",
    "check_odd_even(number)\n"
   ]
  },
  {
   "cell_type": "markdown",
   "id": "356dd8c8-301a-470c-a1a4-630669da3b4b",
   "metadata": {},
   "source": [
    "# 2. Count the total number of digits in a number"
   ]
  },
  {
   "cell_type": "code",
   "execution_count": 2,
   "id": "46f72dcb-c241-4e94-b7b2-2214a15b71d8",
   "metadata": {},
   "outputs": [
    {
     "name": "stdin",
     "output_type": "stream",
     "text": [
      "Enter a number:  37557\n"
     ]
    },
    {
     "name": "stdout",
     "output_type": "stream",
     "text": [
      "Total digits: 5\n"
     ]
    }
   ],
   "source": [
    "def count_digits(number):\n",
    "    count = 0\n",
    "    while number > 0:\n",
    "        count += 1\n",
    "        number //= 10\n",
    "    return count\n",
    "    \n",
    "num = int(input(\"Enter a number: \"))\n",
    "\n",
    "if num == 0:\n",
    "    print(\"Total digits: 1\")\n",
    "else:\n",
    "\n",
    "    print(\"Total digits:\", count_digits(abs(num)))  # abs to handle negative numbers\n"
   ]
  },
  {
   "cell_type": "markdown",
   "id": "423329cb-a979-400f-b083-a1e3aaaa73fa",
   "metadata": {},
   "source": [
    "# 3.Write a Python program to print the reverse number pattern using a for loop"
   ]
  },
  {
   "cell_type": "code",
   "execution_count": 3,
   "id": "433ce46d-1376-4c32-a204-a05d484a0e3c",
   "metadata": {},
   "outputs": [
    {
     "name": "stdin",
     "output_type": "stream",
     "text": [
      "Enter the number of rows:  5\n"
     ]
    },
    {
     "name": "stdout",
     "output_type": "stream",
     "text": [
      "5 4 3 2 1 \n",
      "4 3 2 1 \n",
      "3 2 1 \n",
      "2 1 \n",
      "1 \n"
     ]
    }
   ],
   "source": [
    "def reverse_number_pattern(n):\n",
    "    for i in range(n, 0, -1):\n",
    "        for j in range(i, 0, -1):\n",
    "            print(j, end=' ')\n",
    "        print()\n",
    "        \n",
    "num = int(input(\"Enter the number of rows: \"))\n",
    "\n",
    "reverse_number_pattern(num)\n"
   ]
  },
  {
   "cell_type": "markdown",
   "id": "2b34d3a1-e5ef-49ee-b162-1d2575fabb8b",
   "metadata": {},
   "source": [
    "# 4. Print all prime numbers within a range"
   ]
  },
  {
   "cell_type": "code",
   "execution_count": 4,
   "id": "2b62f87f-1343-4aaf-a066-f84075d818d4",
   "metadata": {},
   "outputs": [
    {
     "name": "stdin",
     "output_type": "stream",
     "text": [
      "Enter the start of range:  10\n",
      "Enter the end of range:  30\n"
     ]
    },
    {
     "name": "stdout",
     "output_type": "stream",
     "text": [
      "Prime numbers between 10 and 30 are:\n",
      "11 13 17 19 23 29 "
     ]
    }
   ],
   "source": [
    "def is_prime(num):\n",
    "    if num < 2:\n",
    "        return False\n",
    "    for i in range(2, int(num**0.5)+1):\n",
    "        if num % i == 0:\n",
    "            return False\n",
    "    return True\n",
    "\n",
    "def print_primes(start, end):\n",
    "    print(f\"Prime numbers between {start} and {end} are:\")\n",
    "    for num in range(start, end + 1):\n",
    "        if is_prime(num):\n",
    "            print(num, end=' ')\n",
    "            \n",
    "start_range = int(input(\"Enter the start of range: \"))\n",
    "end_range = int(input(\"Enter the end of range: \"))\n",
    "\n",
    "print_primes(start_range, end_range)\n"
   ]
  },
  {
   "cell_type": "markdown",
   "id": "bd124974-90be-4046-b010-f56018a421e4",
   "metadata": {},
   "source": [
    "# 5. Find the factorial of a given number"
   ]
  },
  {
   "cell_type": "code",
   "execution_count": 7,
   "id": "6ba4ff11-8025-44a2-896c-2fcadb3388fe",
   "metadata": {},
   "outputs": [
    {
     "name": "stdin",
     "output_type": "stream",
     "text": [
      "Enter a number:  5\n"
     ]
    },
    {
     "name": "stdout",
     "output_type": "stream",
     "text": [
      "Factorial of 5 is 120\n"
     ]
    }
   ],
   "source": [
    "def factorial(n):\n",
    "    result = 1\n",
    "    for i in range(1, n + 1):\n",
    "        result *= i\n",
    "    return result\n",
    "\n",
    "num = int(input(\"Enter a number: \"))\n",
    "\n",
    "if num < 0:\n",
    "    print(\"Factorial is not defined for negative numbers.\")\n",
    "else:\n",
    "    print(f\"Factorial of {num} is {factorial(num)}\")\n"
   ]
  },
  {
   "cell_type": "markdown",
   "id": "ef630b6d-8a26-44ff-b416-882f1c9bcd54",
   "metadata": {},
   "source": [
    "# 6. Program to check if number is palindrome"
   ]
  },
  {
   "cell_type": "code",
   "execution_count": 6,
   "id": "0b6145d5-2c2e-4d46-a01d-ba07538d51b1",
   "metadata": {},
   "outputs": [
    {
     "name": "stdin",
     "output_type": "stream",
     "text": [
      "Enter a number:  1221\n"
     ]
    },
    {
     "name": "stdout",
     "output_type": "stream",
     "text": [
      "1221 is a Palindrome\n"
     ]
    }
   ],
   "source": [
    "def is_palindrome(num):\n",
    "    original = str(num)\n",
    "    reversed_num = original[::-1]\n",
    "    return original == reversed_num\n",
    "\n",
    "number = int(input(\"Enter a number: \"))\n",
    "if is_palindrome(number):\n",
    "    print(f\"{number} is a Palindrome\")\n",
    "else:\n",
    "    print(f\"{number} is Not a Palindrome\")\n"
   ]
  },
  {
   "cell_type": "markdown",
   "id": "77cf7277-db95-4ea7-89a6-9a22727048b7",
   "metadata": {},
   "source": [
    "# 7. Program to Check Armstrong Number"
   ]
  },
  {
   "cell_type": "code",
   "execution_count": 9,
   "id": "0034ec0f-fb3c-44ca-9098-c308cc9de506",
   "metadata": {},
   "outputs": [
    {
     "name": "stdin",
     "output_type": "stream",
     "text": [
      "Enter a number:  153\n"
     ]
    },
    {
     "name": "stdout",
     "output_type": "stream",
     "text": [
      "153 is an Armstrong number\n"
     ]
    }
   ],
   "source": [
    "def is_armstrong(number):\n",
    "    num_str = str(number)\n",
    "    power = len(num_str)\n",
    "    total = sum(int(digit) ** power for digit in num_str)\n",
    "    return total == number\n",
    "\n",
    "num = int(input(\"Enter a number: \"))\n",
    "\n",
    "if is_armstrong(num):\n",
    "    print(f\"{num} is an Armstrong number\")\n",
    "else:\n",
    "    print(f\"{num} is NOT an Armstrong number\")\n"
   ]
  },
  {
   "cell_type": "markdown",
   "id": "479543c7-66e4-4d55-99af-111696fee4c4",
   "metadata": {},
   "source": [
    "# 8. Find Maximum of three numbers"
   ]
  },
  {
   "cell_type": "code",
   "execution_count": 10,
   "id": "c704a60b-3dde-4234-8402-87f0f676cea5",
   "metadata": {},
   "outputs": [
    {
     "name": "stdin",
     "output_type": "stream",
     "text": [
      "Enter first number:  13\n",
      "Enter second number:  78\n",
      "Enter third number:  90\n"
     ]
    },
    {
     "name": "stdout",
     "output_type": "stream",
     "text": [
      "The maximum of the three numbers is: 90.0\n"
     ]
    }
   ],
   "source": [
    "def find_max(a, b, c):\n",
    "    return max(a, b, c)\n",
    "    \n",
    "num1 = float(input(\"Enter first number: \"))\n",
    "num2 = float(input(\"Enter second number: \"))\n",
    "num3 = float(input(\"Enter third number: \"))\n",
    "\n",
    "maximum = find_max(num1, num2, num3)\n",
    "print(f\"The maximum of the three numbers is: {maximum}\")\n"
   ]
  },
  {
   "cell_type": "markdown",
   "id": "888dc72d-a007-4e5e-839a-3748ceadf7ad",
   "metadata": {},
   "source": [
    "# 9. Find the Sum of digits"
   ]
  },
  {
   "cell_type": "code",
   "execution_count": 11,
   "id": "7a96dc0d-03ae-4177-9095-bbdde51b3c27",
   "metadata": {},
   "outputs": [
    {
     "name": "stdin",
     "output_type": "stream",
     "text": [
      "Enter a number:  12\n"
     ]
    },
    {
     "name": "stdout",
     "output_type": "stream",
     "text": [
      "Sum of digits of 12 is: 3\n"
     ]
    }
   ],
   "source": [
    "def sum_of_digits(number):\n",
    "    total = 0\n",
    "    while number > 0:\n",
    "        total += number % 10\n",
    "        number //= 10\n",
    "    return total\n",
    "\n",
    "num = int(input(\"Enter a number: \")\n",
    "          \n",
    "num = abs(num)\n",
    "\n",
    "print(f\"Sum of digits of {num} is: {sum_of_digits(num)}\")\n"
   ]
  },
  {
   "cell_type": "markdown",
   "id": "4cde37b9-b09a-4f25-93fa-1b4591e8ef29",
   "metadata": {},
   "source": [
    "# 10. Python Program to Print the Natural Numbers Summation Pattern Given a natural number n, the task is to write a Python program to first find the sum of first n natural numbers and then print each step as a pattern."
   ]
  },
  {
   "cell_type": "code",
   "execution_count": 13,
   "id": "77011fb4-d46b-42ef-9f3a-fec5de543447",
   "metadata": {},
   "outputs": [
    {
     "name": "stdin",
     "output_type": "stream",
     "text": [
      "Enter a natural number:  24\n"
     ]
    },
    {
     "name": "stdout",
     "output_type": "stream",
     "text": [
      "1 = 1\n",
      "1 + 2 = 3\n",
      "1 + 2 + 3 = 6\n",
      "1 + 2 + 3 + 4 = 10\n",
      "1 + 2 + 3 + 4 + 5 = 15\n",
      "1 + 2 + 3 + 4 + 5 + 6 = 21\n",
      "1 + 2 + 3 + 4 + 5 + 6 + 7 = 28\n",
      "1 + 2 + 3 + 4 + 5 + 6 + 7 + 8 = 36\n",
      "1 + 2 + 3 + 4 + 5 + 6 + 7 + 8 + 9 = 45\n",
      "1 + 2 + 3 + 4 + 5 + 6 + 7 + 8 + 9 + 10 = 55\n",
      "1 + 2 + 3 + 4 + 5 + 6 + 7 + 8 + 9 + 10 + 11 = 66\n",
      "1 + 2 + 3 + 4 + 5 + 6 + 7 + 8 + 9 + 10 + 11 + 12 = 78\n",
      "1 + 2 + 3 + 4 + 5 + 6 + 7 + 8 + 9 + 10 + 11 + 12 + 13 = 91\n",
      "1 + 2 + 3 + 4 + 5 + 6 + 7 + 8 + 9 + 10 + 11 + 12 + 13 + 14 = 105\n",
      "1 + 2 + 3 + 4 + 5 + 6 + 7 + 8 + 9 + 10 + 11 + 12 + 13 + 14 + 15 = 120\n",
      "1 + 2 + 3 + 4 + 5 + 6 + 7 + 8 + 9 + 10 + 11 + 12 + 13 + 14 + 15 + 16 = 136\n",
      "1 + 2 + 3 + 4 + 5 + 6 + 7 + 8 + 9 + 10 + 11 + 12 + 13 + 14 + 15 + 16 + 17 = 153\n",
      "1 + 2 + 3 + 4 + 5 + 6 + 7 + 8 + 9 + 10 + 11 + 12 + 13 + 14 + 15 + 16 + 17 + 18 = 171\n",
      "1 + 2 + 3 + 4 + 5 + 6 + 7 + 8 + 9 + 10 + 11 + 12 + 13 + 14 + 15 + 16 + 17 + 18 + 19 = 190\n",
      "1 + 2 + 3 + 4 + 5 + 6 + 7 + 8 + 9 + 10 + 11 + 12 + 13 + 14 + 15 + 16 + 17 + 18 + 19 + 20 = 210\n",
      "1 + 2 + 3 + 4 + 5 + 6 + 7 + 8 + 9 + 10 + 11 + 12 + 13 + 14 + 15 + 16 + 17 + 18 + 19 + 20 + 21 = 231\n",
      "1 + 2 + 3 + 4 + 5 + 6 + 7 + 8 + 9 + 10 + 11 + 12 + 13 + 14 + 15 + 16 + 17 + 18 + 19 + 20 + 21 + 22 = 253\n",
      "1 + 2 + 3 + 4 + 5 + 6 + 7 + 8 + 9 + 10 + 11 + 12 + 13 + 14 + 15 + 16 + 17 + 18 + 19 + 20 + 21 + 22 + 23 = 276\n",
      "1 + 2 + 3 + 4 + 5 + 6 + 7 + 8 + 9 + 10 + 11 + 12 + 13 + 14 + 15 + 16 + 17 + 18 + 19 + 20 + 21 + 22 + 23 + 24 = 300\n"
     ]
    }
   ],
   "source": [
    "def natural_sum_pattern(n):\n",
    "    total = 0\n",
    "    for i in range(1, n + 1):\n",
    "        total += i\n",
    "        # Print the summation step\n",
    "        pattern = ' + '.join(str(num) for num in range(1, i + 1))\n",
    "        print(f\"{pattern} = {total}\")\n",
    "\n",
    "num = int(input(\"Enter a natural number: \"))\n",
    "\n",
    "if num > 0:\n",
    "    natural_sum_pattern(num)\n",
    "else:\n",
    "    print(\"Please enter a positive natural number.\")\n"
   ]
  },
  {
   "cell_type": "code",
   "execution_count": null,
   "id": "28e93983-8683-401d-823b-8798d937920d",
   "metadata": {},
   "outputs": [],
   "source": []
  }
 ],
 "metadata": {
  "kernelspec": {
   "display_name": "Python 3 (ipykernel)",
   "language": "python",
   "name": "python3"
  },
  "language_info": {
   "codemirror_mode": {
    "name": "ipython",
    "version": 3
   },
   "file_extension": ".py",
   "mimetype": "text/x-python",
   "name": "python",
   "nbconvert_exporter": "python",
   "pygments_lexer": "ipython3",
   "version": "3.12.7"
  }
 },
 "nbformat": 4,
 "nbformat_minor": 5
}
