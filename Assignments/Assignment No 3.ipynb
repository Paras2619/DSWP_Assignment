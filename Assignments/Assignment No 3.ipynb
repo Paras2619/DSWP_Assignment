{
 "cells": [
  {
   "cell_type": "markdown",
   "id": "b852183f-ff01-422f-bc54-56fba5f07f33",
   "metadata": {},
   "source": [
    "# Assignment No 3"
   ]
  },
  {
   "cell_type": "markdown",
   "id": "a620b1da-07be-433e-b20b-09d5679dc557",
   "metadata": {},
   "source": [
    "# Basic Set Programs"
   ]
  },
  {
   "cell_type": "markdown",
   "id": "d091ef20-f148-492f-a4aa-0b2557d5b9e1",
   "metadata": {},
   "source": [
    "# 1. Create a set and display its elements"
   ]
  },
  {
   "cell_type": "code",
   "execution_count": 1,
   "id": "9eeffd00-6018-4f2b-b1c9-cea34dcbb6e1",
   "metadata": {},
   "outputs": [
    {
     "name": "stdout",
     "output_type": "stream",
     "text": [
      "Set: {1, 2, 3, 4}\n"
     ]
    }
   ],
   "source": [
    "s = {1, 2, 3, 4}\n",
    "print(\"Set:\", s)\n"
   ]
  },
  {
   "cell_type": "markdown",
   "id": "bb754068-1118-452c-8300-8027b4ad7111",
   "metadata": {},
   "source": [
    "# 2. Add an element to a set"
   ]
  },
  {
   "cell_type": "code",
   "execution_count": 2,
   "id": "25b47f87-d106-4030-b6c1-b6521116dba9",
   "metadata": {},
   "outputs": [
    {
     "name": "stdout",
     "output_type": "stream",
     "text": [
      "After adding: {1, 2, 3, 4}\n"
     ]
    }
   ],
   "source": [
    "s = {1, 2, 3}\n",
    "s.add(4)\n",
    "print(\"After adding:\", s)\n"
   ]
  },
  {
   "cell_type": "markdown",
   "id": "27a15004-f464-4f42-8cd2-98e4aaad4b5b",
   "metadata": {},
   "source": [
    "# 3. Remove an element from a set"
   ]
  },
  {
   "cell_type": "code",
   "execution_count": 4,
   "id": "2cf60840-e9bf-4e75-a820-d18ebf9f0860",
   "metadata": {},
   "outputs": [
    {
     "name": "stdout",
     "output_type": "stream",
     "text": [
      "After removing 2: {1, 3}\n"
     ]
    }
   ],
   "source": [
    "s = {1, 2, 3}\n",
    "s.remove(2)\n",
    "print(\"After removing 2:\", s)\n"
   ]
  },
  {
   "cell_type": "markdown",
   "id": "598aa366-debf-49e8-9cd9-34238450a98e",
   "metadata": {},
   "source": [
    "# 4. Clear all elements from a set"
   ]
  },
  {
   "cell_type": "code",
   "execution_count": 5,
   "id": "6fcd96b5-5bd0-4524-b83d-3c53f674fe5a",
   "metadata": {},
   "outputs": [
    {
     "name": "stdout",
     "output_type": "stream",
     "text": [
      "Set after clearing: set()\n"
     ]
    }
   ],
   "source": [
    "s = {1, 2, 3}\n",
    "s.clear()\n",
    "print(\"Set after clearing:\", s)\n"
   ]
  },
  {
   "cell_type": "markdown",
   "id": "c58e92b3-da39-4405-9231-e411cb1956c2",
   "metadata": {},
   "source": [
    "# 5. Copy a set to another set"
   ]
  },
  {
   "cell_type": "code",
   "execution_count": 6,
   "id": "320e5909-9d3a-4a67-a8d5-1b457a5bbe56",
   "metadata": {},
   "outputs": [
    {
     "name": "stdout",
     "output_type": "stream",
     "text": [
      "Copied set: {1, 2, 3}\n"
     ]
    }
   ],
   "source": [
    "s1 = {1, 2, 3}\n",
    "s2 = s1.copy()\n",
    "print(\"Copied set:\", s2)\n"
   ]
  },
  {
   "cell_type": "markdown",
   "id": "5fed4e73-4291-4a5f-818a-666e87c1fb3d",
   "metadata": {},
   "source": [
    "# 6. Check if an element exists in a set"
   ]
  },
  {
   "cell_type": "code",
   "execution_count": 7,
   "id": "021475aa-0b0a-4126-96e1-a9e93665848f",
   "metadata": {},
   "outputs": [
    {
     "name": "stdout",
     "output_type": "stream",
     "text": [
      "Is 2 in set? True\n"
     ]
    }
   ],
   "source": [
    "s = {1, 2, 3}\n",
    "print(\"Is 2 in set?\", 2 in s)\n"
   ]
  },
  {
   "cell_type": "markdown",
   "id": "1be2ca61-514c-413d-a890-10e0382925ed",
   "metadata": {},
   "source": [
    "# 7. Find the length of a set"
   ]
  },
  {
   "cell_type": "code",
   "execution_count": 8,
   "id": "f346d833-f1d4-4383-9564-916cfcfe3134",
   "metadata": {
    "scrolled": true
   },
   "outputs": [
    {
     "name": "stdout",
     "output_type": "stream",
     "text": [
      "Length of set: 4\n"
     ]
    }
   ],
   "source": [
    "s = {1, 2, 3, 4}\n",
    "print(\"Length of set:\", len(s))\n"
   ]
  },
  {
   "cell_type": "markdown",
   "id": "d91ecb47-500c-4c63-a48b-7736e4d92813",
   "metadata": {},
   "source": [
    "# 8. Iterate through a set using a loop"
   ]
  },
  {
   "cell_type": "code",
   "execution_count": 9,
   "id": "57664af4-dc00-40d8-b56d-f5df4e6b014a",
   "metadata": {},
   "outputs": [
    {
     "name": "stdout",
     "output_type": "stream",
     "text": [
      "1\n",
      "2\n",
      "3\n"
     ]
    }
   ],
   "source": [
    "s = {1, 2, 3}\n",
    "for item in s:\n",
    "    print(item)\n"
   ]
  },
  {
   "cell_type": "markdown",
   "id": "238874e0-5ef2-4acd-9aea-861590e34ac4",
   "metadata": {},
   "source": [
    "# Set Operations"
   ]
  },
  {
   "cell_type": "markdown",
   "id": "b51db20d-abb7-4567-9fb5-f1b44b6af800",
   "metadata": {},
   "source": [
    "# 9. Find the union of two sets"
   ]
  },
  {
   "cell_type": "code",
   "execution_count": 10,
   "id": "096bb3ff-a88f-425c-9d59-741955a7d90f",
   "metadata": {},
   "outputs": [
    {
     "name": "stdout",
     "output_type": "stream",
     "text": [
      "Union: {1, 2, 3, 4, 5}\n"
     ]
    }
   ],
   "source": [
    "a = {1, 2, 3}\n",
    "b = {3, 4, 5}\n",
    "print(\"Union:\", a.union(b))\n"
   ]
  },
  {
   "cell_type": "markdown",
   "id": "1a0dd5e7-f921-48c7-aa52-16deb63a65ea",
   "metadata": {},
   "source": [
    "# 10. Find the intersection of two sets"
   ]
  },
  {
   "cell_type": "code",
   "execution_count": 12,
   "id": "56b9fb4e-75a7-4206-b6aa-31aa86bfc28d",
   "metadata": {},
   "outputs": [
    {
     "name": "stdout",
     "output_type": "stream",
     "text": [
      "Intersection: {2, 3}\n"
     ]
    }
   ],
   "source": [
    "a = {1, 2, 3}\n",
    "b = {2, 3, 4}\n",
    "print(\"Intersection:\", a.intersection(b))\n"
   ]
  },
  {
   "cell_type": "markdown",
   "id": "e991c99a-a00e-4ab8-8f51-52f6a581d91e",
   "metadata": {},
   "source": [
    "# 11. Find the difference between two sets"
   ]
  },
  {
   "cell_type": "code",
   "execution_count": 13,
   "id": "f0924fa4-af96-41e6-b6ad-db888e8b8b60",
   "metadata": {},
   "outputs": [
    {
     "name": "stdout",
     "output_type": "stream",
     "text": [
      "Difference (a - b): {1}\n"
     ]
    }
   ],
   "source": [
    "a = {1, 2, 3}\n",
    "b = {2, 3, 4}\n",
    "print(\"Difference (a - b):\", a.difference(b))\n"
   ]
  },
  {
   "cell_type": "markdown",
   "id": "7c0b8dbc-c36c-4650-8046-7dd837d9a207",
   "metadata": {},
   "source": [
    "# 12. Find the symmetric difference between two sets"
   ]
  },
  {
   "cell_type": "code",
   "execution_count": 14,
   "id": "21f80665-1943-4787-8a5a-ee850755ac73",
   "metadata": {},
   "outputs": [
    {
     "name": "stdout",
     "output_type": "stream",
     "text": [
      "Symmetric Difference: {1, 4}\n"
     ]
    }
   ],
   "source": [
    "a = {1, 2, 3}\n",
    "b = {2, 3, 4}\n",
    "print(\"Symmetric Difference:\", a.symmetric_difference(b))\n",
    "\n"
   ]
  },
  {
   "cell_type": "markdown",
   "id": "7d5a0de4-0914-4202-9573-cf4a177260c4",
   "metadata": {},
   "source": [
    "# 13. Check if one set is a subset of another"
   ]
  },
  {
   "cell_type": "code",
   "execution_count": 15,
   "id": "f4f5f2fa-d4ce-4fba-8653-df0538243d46",
   "metadata": {},
   "outputs": [
    {
     "name": "stdout",
     "output_type": "stream",
     "text": [
      "a is subset of b? True\n"
     ]
    }
   ],
   "source": [
    "a = {1, 2}\n",
    "b = {1, 2, 3}\n",
    "print(\"a is subset of b?\", a.issubset(b))\n"
   ]
  },
  {
   "cell_type": "markdown",
   "id": "f5723509-4b3e-49e7-903f-83f8e87cf44f",
   "metadata": {},
   "source": [
    "# 14. Check if one set is a superset of another"
   ]
  },
  {
   "cell_type": "code",
   "execution_count": 16,
   "id": "fdb9bf75-a068-4468-9ee5-81b44822d421",
   "metadata": {},
   "outputs": [
    {
     "name": "stdout",
     "output_type": "stream",
     "text": [
      "a is superset of b? True\n"
     ]
    }
   ],
   "source": [
    "a = {1, 2, 3}\n",
    "b = {2, 3}\n",
    "print(\"a is superset of b?\", a.issuperset(b))\n"
   ]
  },
  {
   "cell_type": "markdown",
   "id": "944fea95-0d01-4a83-b109-cb3b58ba6904",
   "metadata": {},
   "source": [
    "# 15. Check if two sets are disjoint"
   ]
  },
  {
   "cell_type": "code",
   "execution_count": 17,
   "id": "f75300d3-6793-47e8-9a04-c34922aecc11",
   "metadata": {},
   "outputs": [
    {
     "name": "stdout",
     "output_type": "stream",
     "text": [
      "Are sets disjoint? True\n"
     ]
    }
   ],
   "source": [
    "a = {1, 2}\n",
    "b = {3, 4}\n",
    "print(\"Are sets disjoint?\", a.isdisjoint(b))\n"
   ]
  },
  {
   "cell_type": "markdown",
   "id": "e8dcee27-0608-4fe8-a6e3-1cc182eedfab",
   "metadata": {},
   "source": [
    "#  Set Applications"
   ]
  },
  {
   "cell_type": "markdown",
   "id": "d316ad58-6529-4175-a132-cf7bda013e5a",
   "metadata": {},
   "source": [
    "# 16. Remove duplicates from a list using a set"
   ]
  },
  {
   "cell_type": "code",
   "execution_count": 18,
   "id": "b566de57-29aa-4181-8698-42b2be5b845e",
   "metadata": {},
   "outputs": [
    {
     "name": "stdout",
     "output_type": "stream",
     "text": [
      "Unique values: {1, 2, 3, 4, 5}\n"
     ]
    }
   ],
   "source": [
    "lst = [1, 2, 2, 3, 4, 4, 5]\n",
    "unique = set(lst)\n",
    "print(\"Unique values:\", unique)\n"
   ]
  },
  {
   "cell_type": "markdown",
   "id": "1234877d-2afc-4d16-90c9-a80c9bccc0d3",
   "metadata": {},
   "source": [
    "# 17. Convert a list to a set and back to a list"
   ]
  },
  {
   "cell_type": "code",
   "execution_count": 19,
   "id": "bd17ffb6-cdd4-48bb-954a-22a27a77d8ae",
   "metadata": {},
   "outputs": [
    {
     "name": "stdout",
     "output_type": "stream",
     "text": [
      "Converted list: [1, 2, 3, 4]\n"
     ]
    }
   ],
   "source": [
    "lst = [1, 2, 3, 4]\n",
    "s = set(lst)\n",
    "new_list = list(s)\n",
    "print(\"Converted list:\", new_list)\n"
   ]
  },
  {
   "cell_type": "markdown",
   "id": "a508c4e8-4a14-428f-906d-e4a98bd17b7f",
   "metadata": {},
   "source": [
    "# 18. Find common elements in two lists using sets\n"
   ]
  },
  {
   "cell_type": "code",
   "execution_count": 20,
   "id": "7d461bc2-b807-4205-8754-7c1a30738a37",
   "metadata": {},
   "outputs": [
    {
     "name": "stdout",
     "output_type": "stream",
     "text": [
      "Common elements: {2, 3}\n"
     ]
    }
   ],
   "source": [
    "a = [1, 2, 3]\n",
    "b = [2, 3, 4]\n",
    "common = set(a).intersection(b)\n",
    "print(\"Common elements:\", common)\n"
   ]
  },
  {
   "cell_type": "markdown",
   "id": "9247d7a6-e343-497b-99be-32a0fc6eabd6",
   "metadata": {},
   "source": [
    "# 19. Get elements in one list but not in another using sets"
   ]
  },
  {
   "cell_type": "code",
   "execution_count": 21,
   "id": "040d30a0-e61e-43e2-b52b-702e34dc4fbf",
   "metadata": {},
   "outputs": [
    {
     "name": "stdout",
     "output_type": "stream",
     "text": [
      "Elements only in a: {1}\n"
     ]
    }
   ],
   "source": [
    "a = [1, 2, 3]\n",
    "b = [2, 3, 4]\n",
    "diff = set(a).difference(b)\n",
    "print(\"Elements only in a:\", diff)\n"
   ]
  },
  {
   "cell_type": "markdown",
   "id": "625d8b03-48c1-44d8-9738-7dc90ee606ce",
   "metadata": {},
   "source": [
    "# 20. Use set comprehension to generate a set (e.g., squares)"
   ]
  },
  {
   "cell_type": "code",
   "execution_count": 22,
   "id": "7dbfbc32-2128-4d7e-9b81-348181809058",
   "metadata": {},
   "outputs": [
    {
     "name": "stdout",
     "output_type": "stream",
     "text": [
      "Squares set: {1, 4, 9, 16, 25}\n"
     ]
    }
   ],
   "source": [
    "squares = {x*x for x in range(1, 6)}\n",
    "print(\"Squares set:\", squares)\n"
   ]
  },
  {
   "cell_type": "markdown",
   "id": "472ed736-3272-4d02-a556-6629e1aba30f",
   "metadata": {},
   "source": [
    "#  Frozen Set Programs"
   ]
  },
  {
   "cell_type": "markdown",
   "id": "312378d1-4e3c-4b8a-a11f-5d7c279e9068",
   "metadata": {},
   "source": [
    "# 21. Create and print a frozenset"
   ]
  },
  {
   "cell_type": "code",
   "execution_count": 23,
   "id": "888d96fe-ba0b-459b-81e3-e7eebc6ca6cf",
   "metadata": {},
   "outputs": [
    {
     "name": "stdout",
     "output_type": "stream",
     "text": [
      "Frozen set: frozenset({1, 2, 3, 4})\n"
     ]
    }
   ],
   "source": [
    "f = frozenset([1, 2, 3, 4])\n",
    "print(\"Frozen set:\", f)\n"
   ]
  },
  {
   "cell_type": "code",
   "execution_count": null,
   "id": "290a527d-9445-4f4a-9732-df1b6fa9a236",
   "metadata": {},
   "outputs": [],
   "source": []
  }
 ],
 "metadata": {
  "kernelspec": {
   "display_name": "Python 3 (ipykernel)",
   "language": "python",
   "name": "python3"
  },
  "language_info": {
   "codemirror_mode": {
    "name": "ipython",
    "version": 3
   },
   "file_extension": ".py",
   "mimetype": "text/x-python",
   "name": "python",
   "nbconvert_exporter": "python",
   "pygments_lexer": "ipython3",
   "version": "3.12.7"
  }
 },
 "nbformat": 4,
 "nbformat_minor": 5
}
