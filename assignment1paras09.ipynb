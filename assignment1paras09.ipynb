{
 "cells": [
  {
   "cell_type": "markdown",
   "id": "bae6e466-e385-4944-9f86-02cfd66fb73c",
   "metadata": {},
   "source": [
    "# pratical assignment 1"
   ]
  },
  {
   "cell_type": "markdown",
   "id": "47cb5df4-7187-45e1-9053-a405399285c5",
   "metadata": {},
   "source": [
    "1. check the given program is odd or even"
   ]
  },
  {
   "cell_type": "code",
   "execution_count": 7,
   "id": "db327784-c8ee-4382-894e-9ac1dd74309d",
   "metadata": {},
   "outputs": [
    {
     "name": "stdout",
     "output_type": "stream",
     "text": [
      "10 is Even\n",
      "7 is Odd\n"
     ]
    }
   ],
   "source": [
    "def check_odd_even(number):\n",
    "    if number % 2 == 0:\n",
    "        return \"Even\"\n",
    "    else:\n",
    "        return \"Odd\"\n",
    "\n",
    "# Example usage\n",
    "number = 10\n",
    "result = check_odd_even(number)\n",
    "print(f\"{number} is {result}\")\n",
    "\n",
    "number = 7\n",
    "result = check_odd_even(number)\n",
    "print(f\"{number} is {result}\")"
   ]
  },
  {
   "cell_type": "markdown",
   "id": "e90d25a0-8c78-4cbd-8e48-e214f79a3829",
   "metadata": {},
   "source": [
    "2. count the total number of digits in a number"
   ]
  },
  {
   "cell_type": "code",
   "execution_count": 9,
   "id": "8e4f311f-86bb-4889-9497-0c23ad70504e",
   "metadata": {},
   "outputs": [
    {
     "name": "stdout",
     "output_type": "stream",
     "text": [
      "The number of digits in 12345 is: 5\n",
      "The number of digits in -9876 is: 4\n"
     ]
    }
   ],
   "source": [
    "def count_digits(number):\n",
    "    \"\"\"Counts the number of digits in an integer.\n",
    "\n",
    "    Args:\n",
    "        number: The integer to count digits from.\n",
    "\n",
    "    Returns:\n",
    "        The number of digits in the integer.\n",
    "    \"\"\"\n",
    "    return len(str(abs(number)))\n",
    "\n",
    "# Example usage\n",
    "number = 12345\n",
    "digit_count = count_digits(number)\n",
    "print(f\"The number of digits in {number} is: {digit_count}\")\n",
    "\n",
    "number = -9876\n",
    "digit_count = count_digits(number)\n",
    "print(f\"The number of digits in {number} is: {digit_count}\")"
   ]
  },
  {
   "cell_type": "markdown",
   "id": "77fa01a7-8e75-4be1-946a-59d18f9f054a",
   "metadata": {},
   "source": [
    "3. write a python program program to print the reverse number pattern using a for loop"
   ]
  },
  {
   "cell_type": "code",
   "execution_count": 10,
   "id": "52bdec3b-e0ed-4552-8ee3-47dc6767b377",
   "metadata": {},
   "outputs": [
    {
     "name": "stdout",
     "output_type": "stream",
     "text": [
      "5 4 3 2 1 \n",
      "4 3 2 1 \n",
      "3 2 1 \n",
      "2 1 \n",
      "1 \n"
     ]
    }
   ],
   "source": [
    "rows = 5\n",
    "for i in range(rows, 0, -1):\n",
    "    for j in range(i, 0, -1):\n",
    "        print(j, end=\" \")\n",
    "    print()"
   ]
  },
  {
   "cell_type": "markdown",
   "id": "a2565ba6-b819-4774-8ac2-c384494004c2",
   "metadata": {},
   "source": [
    "4. print all prime numbers within a range"
   ]
  },
  {
   "cell_type": "code",
   "execution_count": 12,
   "id": "ccb61b78-9011-467d-b3df-d461d30132dd",
   "metadata": {},
   "outputs": [
    {
     "name": "stdout",
     "output_type": "stream",
     "text": [
      "2\n",
      "3\n",
      "5\n",
      "7\n",
      "11\n",
      "13\n",
      "17\n",
      "19\n",
      "23\n",
      "29\n",
      "31\n",
      "37\n",
      "41\n",
      "43\n",
      "47\n"
     ]
    }
   ],
   "source": [
    "def print_primes_in_range(start, end):\n",
    "    \"\"\"Prints all prime numbers within the range [start, end].\"\"\"\n",
    "\n",
    "    def is_prime(num):\n",
    "        \"\"\"Checks if a number is prime.\"\"\"\n",
    "        if num <= 1:\n",
    "            return False\n",
    "        if num <= 3:\n",
    "            return True\n",
    "        if num % 2 == 0 or num % 3 == 0:\n",
    "            return False\n",
    "        i = 5\n",
    "        while i * i <= num:\n",
    "            if num % i == 0 or num % (i + 2) == 0:\n",
    "                return False\n",
    "            i += 6\n",
    "        return True\n",
    "\n",
    "    for num in range(start, end + 1):\n",
    "        if is_prime(num):\n",
    "            print(num)\n",
    "\n",
    "print_primes_in_range(2,50)"
   ]
  },
  {
   "cell_type": "markdown",
   "id": "c2088614-3374-453c-913a-448bca8f6419",
   "metadata": {},
   "source": [
    "5.find the factorial of a given number"
   ]
  },
  {
   "cell_type": "code",
   "execution_count": 13,
   "id": "7b0b6e5d-69e1-4a63-bfc1-52d10acc09c8",
   "metadata": {},
   "outputs": [
    {
     "name": "stdin",
     "output_type": "stream",
     "text": [
      "Enter a number:  23\n"
     ]
    },
    {
     "name": "stdout",
     "output_type": "stream",
     "text": [
      "The factorial of 23 is 25852016738884976640000\n"
     ]
    }
   ],
   "source": [
    "def factorial(n):\n",
    "    if n == 0:\n",
    "        return 1\n",
    "    else:\n",
    "        fact = 1\n",
    "        for i in range(1, n + 1):\n",
    "            fact = fact * i\n",
    "        return fact\n",
    "\n",
    "number = int(input(\"Enter a number: \"))\n",
    "result = factorial(number)\n",
    "print(\"The factorial of\", number, \"is\", result)"
   ]
  },
  {
   "cell_type": "markdown",
   "id": "902fcb3a-4144-4eb6-a399-fd3eac06b274",
   "metadata": {},
   "source": [
    "6. program to check if number is palindrone"
   ]
  },
  {
   "cell_type": "code",
   "execution_count": 14,
   "id": "33ce5afa-86f1-4892-8a0c-1b654149ebdc",
   "metadata": {},
   "outputs": [
    {
     "name": "stdout",
     "output_type": "stream",
     "text": [
      "121 is a palindrome: True\n",
      "123 is a palindrome: False\n"
     ]
    }
   ],
   "source": [
    "def is_palindrome(number):\n",
    "  \"\"\"\n",
    "  Checks if a number is a palindrome.\n",
    "\n",
    "  Args:\n",
    "    number: The number to check.\n",
    "\n",
    "  Returns:\n",
    "    True if the number is a palindrome, False otherwise.\n",
    "  \"\"\"\n",
    "  num_str = str(number)\n",
    "  return num_str == num_str[::-1]\n",
    "\n",
    "# Example usage\n",
    "number1 = 121\n",
    "number2 = 123\n",
    "\n",
    "print(f\"{number1} is a palindrome: {is_palindrome(number1)}\")\n",
    "print(f\"{number2} is a palindrome: {is_palindrome(number2)}\")"
   ]
  },
  {
   "cell_type": "markdown",
   "id": "c382601d-63a9-4ea1-ba04-9d1116906c6d",
   "metadata": {},
   "source": [
    "7. program to check armstrong number"
   ]
  },
  {
   "cell_type": "code",
   "execution_count": 15,
   "id": "cac199e6-a549-43ed-90fc-a0365a097be5",
   "metadata": {},
   "outputs": [
    {
     "name": "stdin",
     "output_type": "stream",
     "text": [
      "Enter a number:  34\n"
     ]
    },
    {
     "name": "stdout",
     "output_type": "stream",
     "text": [
      "34 is not an Armstrong number.\n"
     ]
    }
   ],
   "source": [
    "def is_armstrong(num):\n",
    "    num_str = str(num)\n",
    "    num_digits = len(num_str)\n",
    "    total = 0\n",
    "    for digit in num_str:\n",
    "        total += int(digit) ** num_digits\n",
    "    return total == num\n",
    "\n",
    "number = int(input(\"Enter a number: \"))\n",
    "\n",
    "if is_armstrong(number):\n",
    "    print(f\"{number} is an Armstrong number.\")\n",
    "else:\n",
    "    print(f\"{number} is not an Armstrong number.\")"
   ]
  },
  {
   "cell_type": "markdown",
   "id": "58191078-c351-433a-8db8-aa87453ee60f",
   "metadata": {},
   "source": [
    "8.find maximum of three numbers"
   ]
  },
  {
   "cell_type": "code",
   "execution_count": 16,
   "id": "cc4b1bef-676b-4d69-a7da-b8d78b00c66e",
   "metadata": {},
   "outputs": [
    {
     "name": "stdout",
     "output_type": "stream",
     "text": [
      "The maximum of 10, 5, and 8 is: 10\n"
     ]
    }
   ],
   "source": [
    "def find_maximum(num1, num2, num3):\n",
    "    \"\"\"\n",
    "    This function returns the maximum of three numbers.\n",
    "    \"\"\"\n",
    "    return max(num1, num2, num3)\n",
    "\n",
    "# Example usage:\n",
    "number1 = 10\n",
    "number2 = 5\n",
    "number3 = 8\n",
    "maximum_number = find_maximum(number1, number2, number3)\n",
    "print(f\"The maximum of {number1}, {number2}, and {number3} is: {maximum_number}\")"
   ]
  },
  {
   "cell_type": "markdown",
   "id": "aed2f231-6771-4c4f-be05-285a694fc184",
   "metadata": {},
   "source": [
    "9. find the sum of digits"
   ]
  },
  {
   "cell_type": "code",
   "execution_count": 20,
   "id": "37a338ae-72fa-417e-8e7a-648e1a513779",
   "metadata": {},
   "outputs": [
    {
     "name": "stdin",
     "output_type": "stream",
     "text": [
      "Enter Number:  1234\n"
     ]
    },
    {
     "name": "stdout",
     "output_type": "stream",
     "text": [
      "10\n"
     ]
    }
   ],
   "source": [
    "num = input(\"Enter Number: \")\n",
    "sum = 0\n",
    "\n",
    "for i in num:\n",
    "    sum = sum + int(i)\n",
    "\n",
    "print(sum)"
   ]
  },
  {
   "cell_type": "markdown",
   "id": "6fb4c8d4-eaa4-46be-ad15-259743cdede3",
   "metadata": {},
   "source": [
    "10.python program to print in the natural numbers summation pattern\n",
    "given a natural number n, the task is to write a python program to first find the sum of first n natural numbers \n",
    "and then print each step as a pattern."
   ]
  },
  {
   "cell_type": "code",
   "execution_count": 21,
   "id": "ee406182-bdbf-41d6-bacd-a4656399a58e",
   "metadata": {},
   "outputs": [
    {
     "name": "stdin",
     "output_type": "stream",
     "text": [
      "Enter a natural number:  5\n"
     ]
    },
    {
     "name": "stdout",
     "output_type": "stream",
     "text": [
      "1 =  1\n",
      "1 + 2 =  3\n",
      "1 + 2 + 3 =  6\n",
      "1 + 2 + 3 + 4 =  10\n",
      "1 + 2 + 3 + 4 + 5 =  15\n"
     ]
    }
   ],
   "source": [
    "n = int(input(\"Enter a natural number: \"))\n",
    "for i in range(1, n + 1):\n",
    "    current_sum = 0\n",
    "    pattern = \"\"\n",
    "    for j in range(1, i + 1):\n",
    "        current_sum += j\n",
    "        pattern += str(j)\n",
    "        if j < i:\n",
    "            pattern += \" + \"\n",
    "    print(pattern, \"= \", current_sum)"
   ]
  },
  {
   "cell_type": "code",
   "execution_count": null,
   "id": "a94b70b3-63a3-45a3-a93d-0bb60a2f743a",
   "metadata": {},
   "outputs": [],
   "source": []
  }
 ],
 "metadata": {
  "kernelspec": {
   "display_name": "Python 3 (ipykernel)",
   "language": "python",
   "name": "python3"
  },
  "language_info": {
   "codemirror_mode": {
    "name": "ipython",
    "version": 3
   },
   "file_extension": ".py",
   "mimetype": "text/x-python",
   "name": "python",
   "nbconvert_exporter": "python",
   "pygments_lexer": "ipython3",
   "version": "3.12.7"
  }
 },
 "nbformat": 4,
 "nbformat_minor": 5
}
